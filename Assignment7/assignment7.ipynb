{
 "cells": [
  {
   "cell_type": "markdown",
   "id": "9e72c343",
   "metadata": {},
   "source": [
    "# This is Assignment 07 - ThienKim Le\n",
    "## Requirement 4"
   ]
  },
  {
   "cell_type": "code",
   "execution_count": 1,
   "id": "53eab913",
   "metadata": {},
   "outputs": [
    {
     "data": {
      "text/plain": [
       "[1, 2, 4, 5, 7, 8, 10, 11, 14, 16, 19, 20, 22, 23, 25, 26, 28, 29]"
      ]
     },
     "execution_count": 1,
     "metadata": {},
     "output_type": "execute_result"
    }
   ],
   "source": [
    "# Using list comprehension in Jupyter Notebook\n",
    "numbers = [num for num in range(30) if num % 3 != 0 and num != 13 and num != 17]\n",
    "numbers"
   ]
  },
  {
   "cell_type": "markdown",
   "id": "96f88dd4",
   "metadata": {},
   "source": [
    "## Requirement 5"
   ]
  },
  {
   "cell_type": "code",
   "execution_count": 2,
   "id": "004249aa",
   "metadata": {},
   "outputs": [
    {
     "name": "stdout",
     "output_type": "stream",
     "text": [
      "[1, 2, 4, 5, 7, 8, 10, 11, 14, 16, 19, 20, 22, 23, 25, 26, 28, 29]\n"
     ]
    }
   ],
   "source": [
    "numbers = []\n",
    "for num in range(30):\n",
    "    if num % 3 != 0 and num != 13 and num != 17:\n",
    "        numbers.append(num)\n",
    "\n",
    "print(numbers)\n"
   ]
  },
  {
   "cell_type": "markdown",
   "id": "9ff010a3",
   "metadata": {},
   "source": [
    "## Requirement 6"
   ]
  },
  {
   "cell_type": "code",
   "execution_count": 3,
   "id": "c41c7ee0",
   "metadata": {},
   "outputs": [
    {
     "name": "stdout",
     "output_type": "stream",
     "text": [
      "[-29, -27, -25, -23, -21, -19, -17, -15, -13, -11, -9, -7, -5, -3, -1, 2, 4, 6, 8, 10, 12, 14, 16, 18, 20, 22, 24, 26, 28, 30]\n"
     ]
    }
   ],
   "source": [
    "numbers = [num for num in range(-30, 31) if (num > 0 and num % 2 == 0) or (num < 0 and num % 2 != 0)]\n",
    "print(numbers)\n"
   ]
  },
  {
   "cell_type": "markdown",
   "id": "236d4d5d",
   "metadata": {},
   "source": [
    "## Requirement 7"
   ]
  },
  {
   "cell_type": "code",
   "execution_count": 4,
   "id": "b2d4bded",
   "metadata": {},
   "outputs": [
    {
     "name": "stdout",
     "output_type": "stream",
     "text": [
      "{0, 1, 2, 3, 4}\n"
     ]
    }
   ],
   "source": [
    "remainder_set = {i % 5 for i in range(1000)}\n",
    "print(remainder_set)\n"
   ]
  },
  {
   "cell_type": "markdown",
   "id": "d5560b00",
   "metadata": {},
   "source": [
    "## Requirement 8\n"
   ]
  },
  {
   "cell_type": "code",
   "execution_count": 5,
   "id": "adb44257",
   "metadata": {},
   "outputs": [
    {
     "name": "stdout",
     "output_type": "stream",
     "text": [
      "{0: 0, 1: 1, 2: 8, 3: 27, 4: 64, 5: 125, 6: 216, 7: 343, 8: 512, 9: 729, 10: 1000, 11: 1331, 12: 1728, 13: 2197, 14: 2744, 15: 3375, 16: 4096, 17: 4913, 18: 5832, 19: 6859}\n"
     ]
    }
   ],
   "source": [
    "# Dictionary comprehension to generate a dictionary of numbers and their cubes\n",
    "cubes_dict = {i: i ** 3 for i in range(20)}\n",
    "\n",
    "print(cubes_dict)\n"
   ]
  },
  {
   "cell_type": "markdown",
   "id": "63a38e35",
   "metadata": {},
   "source": [
    "## Requirement 9"
   ]
  },
  {
   "cell_type": "code",
   "execution_count": 6,
   "id": "7b72cfc7",
   "metadata": {},
   "outputs": [
    {
     "name": "stdout",
     "output_type": "stream",
     "text": [
      "<class 'generator'>\n",
      "0\n",
      "2\n",
      "4\n",
      "6\n",
      "8\n",
      "10\n",
      "12\n",
      "14\n",
      "16\n",
      "18\n",
      "20\n",
      "22\n",
      "24\n",
      "26\n",
      "28\n",
      "30\n",
      "32\n",
      "34\n",
      "36\n",
      "38\n",
      "40\n",
      "42\n",
      "44\n",
      "46\n",
      "48\n"
     ]
    }
   ],
   "source": [
    "# Generator function to yield even numbers from a range\n",
    "def even_numbers_generator():\n",
    "    for num in range(50):\n",
    "        if num % 2 == 0:\n",
    "            yield num\n",
    "\n",
    "# Create the generator\n",
    "G = even_numbers_generator()\n",
    "\n",
    "# Print the type of G\n",
    "print(type(G))\n",
    "\n",
    "# Print the contents of G\n",
    "for num in G:\n",
    "    print(num)\n"
   ]
  },
  {
   "cell_type": "markdown",
   "id": "e3801dbc",
   "metadata": {},
   "source": [
    "## Requirement 10"
   ]
  },
  {
   "cell_type": "code",
   "execution_count": 10,
   "id": "f5ae2827",
   "metadata": {},
   "outputs": [
    {
     "name": "stdout",
     "output_type": "stream",
     "text": [
      "0.0\n",
      "0.5\n",
      "1.0\n",
      "1.5\n",
      "2.0\n",
      "2.5\n",
      "3.0\n",
      "3.5\n",
      "4.0\n",
      "4.5\n",
      "5.0\n",
      "5.5\n",
      "6.0\n",
      "6.5\n",
      "7.0\n",
      "\n",
      "\n",
      "0.0\n",
      "0.5\n",
      "1.0\n",
      "1.5\n",
      "2.0\n",
      "2.5\n",
      "3.0\n",
      "3.5\n",
      "4.0\n",
      "4.5\n",
      "5.0\n",
      "5.5\n",
      "6.0\n",
      "6.5\n",
      "7.0\n"
     ]
    }
   ],
   "source": [
    "# Create the generator G1 using a generator expression\n",
    "G1 = (n / 2 for n in range(15))\n",
    "\n",
    "# Print the contents of G1\n",
    "for num in G1:\n",
    "    print(num)\n",
    "print(\"\\n\")\n",
    "    \n",
    "# Generator function to yield n/2 for numbers in a range\n",
    "def gen_divby2():\n",
    "    for n in range(15):\n",
    "        yield n / 2\n",
    "\n",
    "# Create the generator G1\n",
    "G2 = gen_divby2()\n",
    "\n",
    "# Print the contents of G1\n",
    "for num in G2:\n",
    "    print(num)\n"
   ]
  },
  {
   "cell_type": "markdown",
   "id": "81407d16",
   "metadata": {},
   "source": [
    "## Requirement 11"
   ]
  },
  {
   "cell_type": "code",
   "execution_count": 11,
   "id": "fe99b44d",
   "metadata": {},
   "outputs": [
    {
     "name": "stdout",
     "output_type": "stream",
     "text": [
      "2\n",
      "3\n",
      "5\n",
      "7\n",
      "11\n",
      "13\n",
      "17\n",
      "19\n",
      "23\n",
      "29\n",
      "31\n",
      "37\n",
      "41\n",
      "43\n",
      "47\n",
      "53\n",
      "59\n",
      "61\n",
      "67\n",
      "71\n",
      "73\n",
      "79\n",
      "83\n",
      "89\n",
      "97\n"
     ]
    }
   ],
   "source": [
    "def gen_primes():\n",
    "    \"\"\"Generate prime numbers less than 100\"\"\"\n",
    "    # Iterate through numbers from 2 to 99 (exclusive)\n",
    "    for num in range(2, 100):\n",
    "        # Check if the current number is prime\n",
    "        # To determine primality, check if it's divisible by any number\n",
    "        # smaller than its square root (plus 1)\n",
    "        if all(num % i != 0 for i in range(2, int(num ** 0.5) + 1)):\n",
    "            # If the number is prime, yield it\n",
    "            yield num\n",
    "\n",
    "# Print prime numbers less than 100\n",
    "for prime in gen_primes():\n",
    "    print(prime)\n"
   ]
  },
  {
   "cell_type": "markdown",
   "id": "8ac21b56",
   "metadata": {},
   "source": [
    "## Requirement 12"
   ]
  },
  {
   "cell_type": "code",
   "execution_count": 1,
   "id": "e743dafc",
   "metadata": {},
   "outputs": [
    {
     "name": "stdout",
     "output_type": "stream",
     "text": [
      "Current working directory: C:\\Users\\lethi\n",
      "Python version: 3.11.5 | packaged by Anaconda, Inc. | (main, Sep 11 2023, 13:26:23) [MSC v.1916 64 bit (AMD64)] \n",
      "\n",
      "Square root of 16: 4.0\n",
      "Square root of -1 (complex): 1j \n",
      "\n",
      "Permutations of [1, 2, 3]: [(1, 2, 3), (1, 3, 2), (2, 1, 3), (2, 3, 1), (3, 1, 2), (3, 2, 1)] \n",
      "\n",
      "Square of 5: 25 \n",
      "\n",
      "Random number between 1 and 10: 1 \n",
      "\n",
      "Loaded data: {'name': 'John', 'age': 30} \n",
      "\n",
      "JSON representation of data: {\"name\": \"John\", \"age\": 30}\n",
      "Loaded JSON data: {'name': 'John', 'age': 30} \n",
      "\n",
      "CSV row: ['Name', 'Age'] \n",
      "\n",
      "CSV row: ['John', '30'] \n",
      "\n",
      "CSV row: ['Alice', '25'] \n",
      "\n",
      "CSV row: ['Bob', '35'] \n",
      "\n",
      "Content of https://thienkimle.glitch.me/index.html#one: b'<!DOCTYPE HTML>\\n<!--\\n\\tRead Only by HTML5 UP\\n\\thtml5up.net | @ajlkn\\n\\tFree for personal and commercial use under the CCA 3.0 license (html5up.net/license)\\n-->\\n<html>\\n\\t<head>\\n\\t\\t<title>ThienKim Le\\'s Personal Website</title>\\n\\t\\t<meta charset=\"utf-8\" />\\n\\t\\t<meta name=\"viewport\" content=\"width=device-width, initial-scale=1\" />\\n\\t\\t<!--[if lte IE 8]><script src=\"assets/js/ie/html5shiv.js\"></script><![endif]-->\\n\\t\\t<link rel=\"stylesheet\" href=\"assets/css/main.css\" />\\n\\t\\t<!--[if lte IE 8]><link rel=\"stylesheet\" href=\"assets/css/ie8.css\" /><![endif]-->\\n\\t</head>\\n\\t<body>\\n\\n\\t\\t<!-- Header -->\\n\\t\\t\\t<section id=\"header\">\\n\\t\\t\\t\\t<header>\\n\\t\\t\\t\\t\\t<span class=\"logo\"><img src=\"https://cdn.glitch.global/bfd1b68b-e04f-4a14-bdb7-de88f6a36422/thumbnails%2Flogo1.png?1711918343723\" alt=\"\" /></span>\\n\\t\\t\\t\\t\\t<h1 id=\"logo\"><a href=\"#\">ThienKim Le</a></h1>\\n\\t\\t\\t\\t\\t<p>Hello, and welcome to my personal website!I\\'m passionate about software development. \\n            Here, you\\'ll find a showcase of my skills, projects, and experiences in the world of software development.</p>\\n\\t\\t\\t\\t</header>\\n\\t\\t\\t\\t<nav id=\"nav\">\\n\\t\\t\\t\\t\\t<ul>\\n\\t\\t\\t\\t\\t\\t<li><a href=\"#one\" class=\"active\">About Me</a></li>\\n            <li><a href=\"#two\">Portfolio</a></li>\\n\\t\\t\\t\\t\\t\\t<li><a href=\"#three\">Contact</a></li>\\n\\t\\t\\t\\t\\t</ul>\\n\\t\\t\\t\\t</nav>\\n\\t\\t\\t</section>\\n\\n\\n\\t\\t<!-- Wrapper -->\\n\\t\\t\\t<div id=\"wrapper\">\\n\\n\\t\\t\\t\\t<!-- Main -->\\n\\t\\t\\t\\t\\t<div id=\"main\">\\n\\n\\t\\t\\t\\t\\t\\t<!-- One -->\\n\\t\\t\\t\\t\\t\\t\\t<section id=\"one\">\\n\\t\\t\\t\\t\\t\\t\\t\\t<div class=\"container\">\\n\\t\\t\\t\\t\\t\\t\\t\\t\\t<header class=\"major\">\\n\\t\\t\\t\\t\\t\\t\\t\\t\\t\\t<h2>Welcome to ThienKim Le\\'s Personal Website</h2>\\n\\t\\t\\t\\t\\t\\t\\t\\t\\t</header>\\n\\t\\t\\t\\t\\t\\t\\t\\t\\t<p>\\n                    As a seasoned software developer, I\\'ve dedicated myself to mastering various programming languages, frameworks, and technologies. \\n                    Through this website, I aim to share my journey, insights, and expertise with fellow enthusiasts, potential employers, clients, and collaborators.\\n                  </p>\\n                  <p>\\n                    Feel free to explore my portfolio, read my blog, and get in touch if you\\'d like to collaborate or learn more about my work. \\n                    Thank you for visiting, and I hope you find inspiration and valuable insights during your time here.\\n                  </p>\\n                </div>\\n\\t\\t\\t\\t\\t\\t\\t</section>\\n\\n\\n\\t\\t\\t\\t\\t\\t<!-- Three -->\\n\\t\\t\\t\\t\\t\\t\\t<section id=\"two\">\\n\\t\\t\\t\\t\\t\\t\\t\\t<div class=\"container\">\\n\\t\\t\\t\\t\\t\\t\\t\\t\\t<h3>Projects</h3>\\n\\t\\t\\t\\t\\t\\t\\t\\t\\t\\n                    \\n <!--You can copy and paste the whole \"article\" block below if you want to add a new project and link to this section-->\\n                    \\n                    <article>\\n                      <a href=\"#\" class=\"Project\"><img src=\"https://cdn.glitch.global/bfd1b68b-e04f-4a14-bdb7-de88f6a36422/background.png?v=1711920533881\" alt=\"\" /></a>\\n                      <div class=\"inner\">\\n                        <h4>Explore My Portfolio</h4>\\n                        <p>Welcome to my portfolio! Here, you\\'ll find a curated collection of projects that showcase my skills, expertise, and creativity as a software developer. \\n                          From web applications and mobile apps to open-source contributions and personal projects, each endeavor represents a unique challenge and an opportunity for growth.\\n                        </p>\\n                        <p>\\n                          Feel free to browse through my portfolio and explore the projects that pique your interest. If you have any questions or would like to learn more about a specific project, \\n                          don\\'t hesitate to reach out. I\\'m always eager to share my experiences and insights with fellow enthusiasts and potential collaborators\\n                        </p>\\n                        <p>\\n                          Feel free to browse through my portfolio and explore the projects that pique your interest. If you have any questions or would like to learn more about a specific project, don\\'t hesitate to reach out. \\n                          I\\'m always eager to share my experiences and insights with fellow enthusiasts and potential collaborators\\n                        </p>\\n                        <ul>\\n                          <li><a href=\"https://cs3.austincc.edu/~u7634514/assignments/module6/assignment61/html/lht_feb.html\"> Lyman Hall Theater</a></li>\\n                          <li><a href=\"https://cs3.austincc.edu/~u7634514/assignments/module6/lab6/html/dlr_mornings.html\"> DLR Morning Schedule</a></li>\\n                          <li><a href=\"https://cs3.austincc.edu/~u7634514/assignments/module5/assignment51/html/jb_home.html\"> Jersey Buoys\\n                            \\n                            </a></li>\\n                        </ul>\\n                      </div>\\n                    </article>\\n\\n\\n\\t\\t\\t\\t\\t\\t\\t\\t\\t</div>\\n\\t\\t\\t\\t\\t\\t\\t\\t</div>\\n\\t\\t\\t\\t\\t\\t\\t</section>\\n\\n\\t\\t\\t\\t\\t\\t<!-- Four -->\\n\\t\\t\\t\\t\\t\\t\\t<section id=\"three\">\\n\\t\\t\\t\\t\\t\\t\\t\\t<div class=\"container\">\\n\\t\\t\\t\\t\\t\\t\\t\\t\\t<h3>Contact</h3>\\n\\t\\t\\t\\t\\t\\t\\t\\t\\t<p>You can contact me by filling out the form below, or by connecting with me on social media.</p>\\n\\n                  <!--Change the contact info below to your own!-->\\n                  <form method=\"post\" action=\"mailto:le.thienkim@ymail.com\">\\n\\t\\t\\t\\t\\t\\t\\t\\t\\t\\t<div class=\"row uniform\">\\n\\t\\t\\t\\t\\t\\t\\t\\t\\t\\t\\t<div class=\"6u 12u(xsmall)\"><input type=\"text\" name=\"name\" id=\"name\" placeholder=\"Name\" /></div>\\n\\t\\t\\t\\t\\t\\t\\t\\t\\t\\t\\t<div class=\"6u 12u(xsmall)\"><input type=\"email\" name=\"email\" id=\"email\" placeholder=\"Email\" /></div>\\n\\t\\t\\t\\t\\t\\t\\t\\t\\t\\t</div>\\n\\t\\t\\t\\t\\t\\t\\t\\t\\t\\t<div class=\"row uniform\">\\n\\t\\t\\t\\t\\t\\t\\t\\t\\t\\t\\t<div class=\"12u\"><input type=\"text\" name=\"subject\" id=\"subject\" placeholder=\"Subject\" /></div>\\n\\t\\t\\t\\t\\t\\t\\t\\t\\t\\t</div>\\n\\t\\t\\t\\t\\t\\t\\t\\t\\t\\t<div class=\"row uniform\">\\n\\t\\t\\t\\t\\t\\t\\t\\t\\t\\t\\t<div class=\"12u\"><textarea name=\"message\" id=\"message\" placeholder=\"Message\" rows=\"6\"></textarea></div>\\n\\t\\t\\t\\t\\t\\t\\t\\t\\t\\t</div>\\n\\t\\t\\t\\t\\t\\t\\t\\t\\t\\t<div class=\"row uniform\">\\n\\t\\t\\t\\t\\t\\t\\t\\t\\t\\t\\t<div class=\"12u\">\\n\\t\\t\\t\\t\\t\\t\\t\\t\\t\\t\\t\\t<ul class=\"actions\">\\n\\t\\t\\t\\t\\t\\t\\t\\t\\t\\t\\t\\t\\t<li><input type=\"submit\" class=\"special\" value=\"Send Message\" /></li>\\n\\t\\t\\t\\t\\t\\t\\t\\t\\t\\t\\t\\t\\t<li><input type=\"reset\" value=\"Reset Form\" /></li>\\n\\t\\t\\t\\t\\t\\t\\t\\t\\t\\t\\t\\t</ul>\\n\\t\\t\\t\\t\\t\\t\\t\\t\\t\\t\\t</div>\\n\\t\\t\\t\\t\\t\\t\\t\\t\\t\\t</div>\\n\\t\\t\\t\\t\\t\\t\\t\\t\\t</form>\\n\\t\\t\\t\\t\\t\\t\\t\\t</div>\\n\\t\\t\\t\\t\\t\\t\\t</section>\\n\\n\\t\\t\\t\\t\\t</div>\\n\\n\\t\\t\\t\\t<!-- Footer -->\\n\\t\\t\\t\\t\\t<section id=\"footer\">\\n\\t\\t\\t\\t\\t\\t<div class=\"container\">\\n\\t\\t\\t\\t\\t\\t\\t<ul class=\"copyright\">\\n\\t\\t\\t\\t\\t\\t\\t\\t<li>&copy; Untitled. All rights reserved.</li><li>Design: <a href=\"http://html5up.net\">HTML5 UP</a></li>\\n\\t\\t\\t\\t\\t\\t\\t</ul>\\n\\t\\t\\t\\t\\t\\t</div>\\n\\t\\t\\t\\t\\t</section>\\n        \\n\\n\\t\\t\\t</div>\\n<!-- include the Glitch button to show what the webpage is about and\\n          to make it easier for folks to view source and remix -->\\n    <div class=\"glitchButton\" style=\"position:fixed;top:20px;right:20px;\"></div>\\n    <script src=\"https://button.glitch.me/button.js\"></script>\\n\\t\\t<!-- Scripts -->\\n\\t\\t\\t<script src=\"assets/js/jquery.min.js\"></script>\\n\\t\\t\\t<script src=\"assets/js/jquery.scrollzer.min.js\"></script>\\n\\t\\t\\t<script src=\"assets/js/jquery.scrolly.min.js\"></script>\\n\\t\\t\\t<script src=\"assets/js/skel.min.js\"></script>\\n\\t\\t\\t<script src=\"assets/js/util.js\"></script>\\n\\t\\t\\t<!--[if lte IE 8]><script src=\"assets/js/ie/respond.min.js\"></script><![endif]-->\\n\\t\\t\\t<script src=\"assets/js/main.js\"></script>\\n\\n\\t</body>\\n</html>' \n",
      "\n"
     ]
    }
   ],
   "source": [
    "import os\n",
    "import sys\n",
    "import math\n",
    "import cmath\n",
    "import itertools\n",
    "import functools\n",
    "import random\n",
    "import pickle\n",
    "import json\n",
    "import csv\n",
    "import urllib.request\n",
    "\n",
    "# Example using os and sys: Get current working directory and print it\n",
    "print(\"Current working directory:\", os.getcwd())\n",
    "print(\"Python version:\", sys.version,\"\\n\")\n",
    "\n",
    "# Example using math and cmath: Compute square root of a number and a complex number\n",
    "print(\"Square root of 16:\", math.sqrt(16))\n",
    "print(\"Square root of -1 (complex):\", cmath.sqrt(-1),\"\\n\")\n",
    "\n",
    "# Example using itertools: Create permutations of a list\n",
    "perms = itertools.permutations([1, 2, 3])\n",
    "print(\"Permutations of [1, 2, 3]:\", list(perms),\"\\n\")\n",
    "\n",
    "# Example using functools: Create a partial function\n",
    "def power(x, y):\n",
    "    return x ** y\n",
    "square = functools.partial(power, y=2)\n",
    "print(\"Square of 5:\", square(5),\"\\n\")\n",
    "\n",
    "# Example using random: Generate a random integer between 1 and 10\n",
    "print(\"Random number between 1 and 10:\", random.randint(1, 10),\"\\n\")\n",
    "\n",
    "# Example using pickle: Serialize and deserialize an object\n",
    "data = {'name': 'John', 'age': 30}\n",
    "with open('data.pickle', 'wb') as f:\n",
    "    pickle.dump(data, f)\n",
    "with open('data.pickle', 'rb') as f:\n",
    "    loaded_data = pickle.load(f)\n",
    "print(\"Loaded data:\", loaded_data,\"\\n\")\n",
    "\n",
    "# Example using json: Serialize and deserialize a JSON object\n",
    "json_data = json.dumps(data)\n",
    "print(\"JSON representation of data:\", json_data)\n",
    "loaded_json_data = json.loads(json_data)\n",
    "print(\"Loaded JSON data:\", loaded_json_data,\"\\n\")\n",
    "\n",
    "# Example using csv: Write and read a CSV file\n",
    "csv_data = [['Name', 'Age'], ['John', 30], ['Alice', 25], ['Bob', 35]]\n",
    "with open('data.csv', 'w', newline='') as f:\n",
    "    writer = csv.writer(f)\n",
    "    writer.writerows(csv_data)\n",
    "with open('data.csv', newline='') as f:\n",
    "    reader = csv.reader(f)\n",
    "    for row in reader:\n",
    "        print(\"CSV row:\", row,\"\\n\")\n",
    "\n",
    "# Example using urllib: Fetch and print the content of a webpage\n",
    "with urllib.request.urlopen('https://thienkimle.glitch.me/index.html#one') as response:\n",
    "    html = response.read()\n",
    "    print(\"Content of https://thienkimle.glitch.me/index.html#one:\", html,\"\\n\")\n"
   ]
  },
  {
   "cell_type": "markdown",
   "id": "f022236d",
   "metadata": {},
   "source": [
    "## Requirement 13"
   ]
  },
  {
   "cell_type": "code",
   "execution_count": 18,
   "id": "db75bf83",
   "metadata": {},
   "outputs": [
    {
     "name": "stdout",
     "output_type": "stream",
     "text": [
      "Upper-case: THIS IS THE TITLE OF MY LATEST NOVEL\n",
      "Lower-case: this is the title of my latest novel\n",
      "Title: This Is The Title Of My Latest Novel\n",
      "Stripped: This is The Title of My Latest Novel\n",
      "Without leading zeros: 12345\n",
      "Index of 'World': 12\n",
      "Ends with 'Novel': True\n",
      "Begins with 'This': True\n",
      "Replace 'Latest' with 'Newest': This is The Title of My Newest Novel\n",
      "Split: ['This', 'is', 'The', 'Title', 'of', 'My', 'Latest', 'Novel']\n",
      "Joined: Latest**Novel\n",
      "Latest\n",
      "Novel\n",
      "Pi: 3.1415927\n"
     ]
    }
   ],
   "source": [
    "# Demonstrate the conversion to upper-case and lower-case\n",
    "s = \"This is The Title of My Latest Novel\"\n",
    "print(\"Upper-case:\", s.upper())\n",
    "print(\"Lower-case:\", s.lower())\n",
    "\n",
    "# Convert \"this is the title of my latest novel\" to a title\n",
    "s = \"this is the title of my latest novel\"\n",
    "print(\"Title:\", s.title())\n",
    "\n",
    "# Removing leading and trailing spaces\n",
    "s = \"   This is The Title of My Latest Novel   \"\n",
    "print(\"Stripped:\", s.strip())\n",
    "\n",
    "# Remove leading zeros\n",
    "s = \"00012345\"\n",
    "print(\"Without leading zeros:\", s.lstrip(\"0\"))\n",
    "\n",
    "# Return the index of a substring\n",
    "s = \"This is The Title of My Latest Novel\"\n",
    "print(\"Index of 'World':\", s.index(\"Title\"))\n",
    "\n",
    "# Determine if a string ends with and begins with a substring\n",
    "s = \"This is The Title of My Latest Novel\"\n",
    "print(\"Ends with 'Novel':\", s.endswith(\"Novel\"))\n",
    "print(\"Begins with 'This':\", s.startswith(\"This\"))\n",
    "\n",
    "# Replace a substring with another substring\n",
    "s = \"This is The Title of My Latest Novel\"\n",
    "print(\"Replace 'Latest' with 'Newest':\", s.replace(\"Latest\", \"Newest\"))\n",
    "\n",
    "# Split a string of words into a list of individual words\n",
    "s = \"This is The Title of My Latest Novel\"\n",
    "print(\"Split:\", s.split())\n",
    "\n",
    "# Join a list into a string using ** as separators\n",
    "words = [\"Latest\", \"Novel\"]\n",
    "print(\"Joined:\", \"**\".join(words))\n",
    "\n",
    "# Print list elements each on its own line using join()\n",
    "print(\"\\n\".join(words))\n",
    "\n",
    "# Define pi = '3.14159265359' Use format() to print pi to 7 decimal places to the right of the decimal point.\n",
    "pi = 3.14159265359\n",
    "print(\"Pi:\", \"{:.7f}\".format(pi))\n"
   ]
  },
  {
   "cell_type": "code",
   "execution_count": 19,
   "id": "6bd62fec",
   "metadata": {},
   "outputs": [
    {
     "name": "stdout",
     "output_type": "stream",
     "text": [
      "Valid emails:\n",
      "user@example.com - Valid\n",
      "first.last@example.co - Valid\n",
      "user1234@example-domain.com - Valid\n",
      "\n",
      "Invalid emails:\n",
      "user@example - Invalid\n",
      "user@example. - Invalid\n",
      "user@example_com - Invalid\n"
     ]
    }
   ],
   "source": [
    "import re\n",
    "\n",
    "# Define a regular expression pattern to match email addresses\n",
    "email_pattern = re.compile(r'^[a-zA-Z0-9._%+-]+@[a-zA-Z0-9.-]+\\.[a-zA-Z]{2,}$')\n",
    "\n",
    "# Valid emails\n",
    "valid_emails = [\n",
    "    \"user@example.com\",\n",
    "    \"first.last@example.co\",\n",
    "    \"user1234@example-domain.com\"\n",
    "]\n",
    "\n",
    "# Invalid emails\n",
    "invalid_emails = [\n",
    "    \"user@example\",  # Missing top-level domain\n",
    "    \"user@example.\",  # Top-level domain with only dot\n",
    "    \"user@example_com\"  # Underscore instead of dot\n",
    "]\n",
    "\n",
    "# Test the matcher with valid emails\n",
    "print(\"Valid emails:\")\n",
    "for email in valid_emails:\n",
    "    if email_pattern.match(email):\n",
    "        print(email, \"- Valid\")\n",
    "    else:\n",
    "        print(email, \"- Invalid\")\n",
    "\n",
    "# Test the matcher with invalid emails\n",
    "print(\"\\nInvalid emails:\")\n",
    "for email in invalid_emails:\n",
    "    if email_pattern.match(email):\n",
    "        print(email, \"- Valid\")\n",
    "    else:\n",
    "        print(email, \"- Invalid\")\n"
   ]
  },
  {
   "cell_type": "markdown",
   "id": "ea97b654",
   "metadata": {},
   "source": [
    "## Requirement 15\n",
    "Working on Assignment 07 was a valuable learning experience for me. It provided an opportunity to practice various Python concepts, including string manipulation, regular expressions, and module usage. I particularly enjoyed exploring the `re` module and experimenting with regular expressions to validate email addresses. Overall, it was a challenging yet rewarding assignment that helped deepen my understanding of Python programming."
   ]
  },
  {
   "cell_type": "code",
   "execution_count": null,
   "id": "7534e441",
   "metadata": {},
   "outputs": [],
   "source": []
  }
 ],
 "metadata": {
  "kernelspec": {
   "display_name": "Python 3 (ipykernel)",
   "language": "python",
   "name": "python3"
  },
  "language_info": {
   "codemirror_mode": {
    "name": "ipython",
    "version": 3
   },
   "file_extension": ".py",
   "mimetype": "text/x-python",
   "name": "python",
   "nbconvert_exporter": "python",
   "pygments_lexer": "ipython3",
   "version": "3.11.5"
  }
 },
 "nbformat": 4,
 "nbformat_minor": 5
}
