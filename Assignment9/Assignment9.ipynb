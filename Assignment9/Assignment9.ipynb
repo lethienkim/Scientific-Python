{
 "cells": [
  {
   "cell_type": "markdown",
   "id": "5788c7f4",
   "metadata": {},
   "source": [
    "# This is assignment 9 - Thienkim Le"
   ]
  },
  {
   "cell_type": "markdown",
   "id": "5c798f8b",
   "metadata": {},
   "source": [
    "## Requirement 4\n",
    "Explain how NumPy arrays are like Python lists and how they are different. \n",
    "See multiple chapters for this information. \n"
   ]
  },
  {
   "cell_type": "code",
   "execution_count": 1,
   "id": "86794a90",
   "metadata": {},
   "outputs": [
    {
     "name": "stdout",
     "output_type": "stream",
     "text": [
      "NumPy array:\n",
      "1\n",
      "5\n",
      "\n",
      "Python list:\n",
      "1\n",
      "5\n",
      "\n",
      "NumPy array after addition:\n",
      "[2 3 4 5 6]\n",
      "\n",
      "Python list after addition:\n",
      "[2, 3, 4, 5, 6]\n"
     ]
    }
   ],
   "source": [
    "# Example 1: Creating NumPy arrays and Python lists\n",
    "\n",
    "import numpy as np\n",
    "\n",
    "# Creating a NumPy array\n",
    "numpy_array = np.array([1, 2, 3, 4, 5])\n",
    "\n",
    "# Creating a Python list\n",
    "python_list = [1, 2, 3, 4, 5]\n",
    "\n",
    "# Example 2: Accessing elements\n",
    "\n",
    "# Accessing elements in a NumPy array\n",
    "print(\"NumPy array:\")\n",
    "print(numpy_array[0])  # Output: 1\n",
    "print(numpy_array[-1])  # Output: 5\n",
    "\n",
    "# Accessing elements in a Python list\n",
    "print(\"\\nPython list:\")\n",
    "print(python_list[0])  # Output: 1\n",
    "print(python_list[-1])  # Output: 5\n",
    "\n",
    "# Example 3: Arithmetic operations\n",
    "\n",
    "# Adding 1 to every element in the NumPy array\n",
    "numpy_array_plus_one = numpy_array + 1\n",
    "print(\"\\nNumPy array after addition:\")\n",
    "print(numpy_array_plus_one)  # Output: [2 3 4 5 6]\n",
    "\n",
    "# Adding 1 to every element in the Python list\n",
    "python_list_plus_one = [x + 1 for x in python_list]\n",
    "print(\"\\nPython list after addition:\")\n",
    "print(python_list_plus_one)  # Output: [2, 3, 4, 5, 6]\n"
   ]
  },
  {
   "cell_type": "markdown",
   "id": "b70630bd",
   "metadata": {},
   "source": [
    "## Requirement 5\n",
    "Explain how variable typing is performed in Python compared to how it is performed in a language like C. "
   ]
  },
  {
   "cell_type": "code",
   "execution_count": 3,
   "id": "6ed6e138",
   "metadata": {},
   "outputs": [
    {
     "name": "stdout",
     "output_type": "stream",
     "text": [
      "x is of type: <class 'int'>\n",
      "x is of type: <class 'str'>\n"
     ]
    }
   ],
   "source": [
    "# Example 1: Variable typing in Python\n",
    "\n",
    "# Python is dynamically typed\n",
    "x = 5  # x is an integer\n",
    "print(\"x is of type:\", type(x))  # Output: <class 'int'>\n",
    "\n",
    "x = \"Hello\"  # x is now a string\n",
    "print(\"x is of type:\", type(x))  # Output: <class 'str'>\n"
   ]
  },
  {
   "cell_type": "markdown",
   "id": "2038f459",
   "metadata": {},
   "source": [
    "## Requirement 6\n",
    "Explain how integer storage is performed in Python compared to how it is performed in a language like C. "
   ]
  },
  {
   "cell_type": "markdown",
   "id": "2e000258",
   "metadata": {},
   "source": [
    "In Python, integer storage is performed dynamically, and integers are stored as variable-length objects. Python integers can grow to accommodate arbitrarily large values without causing overflow errors. Python's interpreter handles the memory management and allocation for integer objects, which allows for flexibility but may result in slightly slower performance compared to fixed-size integer storage."
   ]
  },
  {
   "cell_type": "code",
   "execution_count": 15,
   "id": "b66a5827",
   "metadata": {},
   "outputs": [],
   "source": [
    "x = 123456789012345678901234567890  # Large integer value\n"
   ]
  },
  {
   "cell_type": "markdown",
   "id": "1a6a60ad",
   "metadata": {},
   "source": [
    "In contrast, in a language like C, integer storage is performed statically, and integers are typically stored using fixed-size memory allocations, such as 2 bytes (short int), 4 bytes (int), or 8 bytes (long int), depending on the platform and compiler. This fixed-size storage allows for faster arithmetic operations but limits the range of values that integers can represent without causing overflow errors."
   ]
  },
  {
   "cell_type": "code",
   "execution_count": 14,
   "id": "52628415",
   "metadata": {},
   "outputs": [
    {
     "ename": "SyntaxError",
     "evalue": "invalid syntax (4052928134.py, line 1)",
     "output_type": "error",
     "traceback": [
      "\u001b[1;36m  Cell \u001b[1;32mIn[14], line 1\u001b[1;36m\u001b[0m\n\u001b[1;33m    int x = 123;  // Integer value stored in a fixed-size memory allocation\u001b[0m\n\u001b[1;37m        ^\u001b[0m\n\u001b[1;31mSyntaxError\u001b[0m\u001b[1;31m:\u001b[0m invalid syntax\n"
     ]
    }
   ],
   "source": [
    "int x = 123;  // Integer value stored in a fixed-size memory allocation\n"
   ]
  },
  {
   "cell_type": "markdown",
   "id": "8655533c",
   "metadata": {},
   "source": [
    "To ensure that the integer value is stored correctly in C, we can use a data type that can accommodate the given value. In this case, we can use the long long data type, which typically provides at least 64 bits of storage, allowing it to hold larger integer values without overflow. Here's the corrected version in C:\n"
   ]
  },
  {
   "cell_type": "code",
   "execution_count": 16,
   "id": "0a0e675f",
   "metadata": {},
   "outputs": [
    {
     "ename": "SyntaxError",
     "evalue": "invalid syntax (2605764722.py, line 4)",
     "output_type": "error",
     "traceback": [
      "\u001b[1;36m  Cell \u001b[1;32mIn[16], line 4\u001b[1;36m\u001b[0m\n\u001b[1;33m    int main() {\u001b[0m\n\u001b[1;37m        ^\u001b[0m\n\u001b[1;31mSyntaxError\u001b[0m\u001b[1;31m:\u001b[0m invalid syntax\n"
     ]
    }
   ],
   "source": [
    "#include <stdio.h>\n",
    "#include <stdlib.h>\n",
    "\n",
    "int main() {\n",
    "    const char *value = \"1234567890123456789\";\n",
    "    unsigned long long x = strtoull(value, NULL, 10);  // Convert string to unsigned long long\n",
    "    printf(\"%llu\\n\", x);\n",
    "    return 0;\n",
    "}\n"
   ]
  },
  {
   "cell_type": "code",
   "execution_count": 14,
   "id": "b29a361e",
   "metadata": {},
   "outputs": [],
   "source": [
    "!g++ largeInteger.cpp"
   ]
  },
  {
   "cell_type": "code",
   "execution_count": 15,
   "id": "606506e1",
   "metadata": {},
   "outputs": [
    {
     "name": "stderr",
     "output_type": "stream",
     "text": [
      "'.' is not recognized as an internal or external command,\n",
      "operable program or batch file.\n"
     ]
    }
   ],
   "source": [
    "!./largeInteger.exe\n"
   ]
  },
  {
   "cell_type": "markdown",
   "id": "9ed1fef2",
   "metadata": {},
   "source": [
    "## Requirement 7\n",
    "Create a list (L1) of numbers 1-20. Convert the numbers in L1 to strings and store them in a new list (L2). "
   ]
  },
  {
   "cell_type": "code",
   "execution_count": 16,
   "id": "4a124c30",
   "metadata": {},
   "outputs": [
    {
     "name": "stdout",
     "output_type": "stream",
     "text": [
      "L1 (numbers 1-20): [1, 2, 3, 4, 5, 6, 7, 8, 9, 10, 11, 12, 13, 14, 15, 16, 17, 18, 19, 20]\n",
      "L2 (converted to strings): ['1', '2', '3', '4', '5', '6', '7', '8', '9', '10', '11', '12', '13', '14', '15', '16', '17', '18', '19', '20']\n"
     ]
    }
   ],
   "source": [
    "# Create a list of numbers 1-20\n",
    "L1 = list(range(1, 21))\n",
    "\n",
    "# Convert numbers in L1 to strings and store them in L2\n",
    "L2 = [str(num) for num in L1]\n",
    "\n",
    "# Print both lists to verify\n",
    "print(\"L1 (numbers 1-20):\", L1)\n",
    "print(\"L2 (converted to strings):\", L2)\n"
   ]
  },
  {
   "cell_type": "markdown",
   "id": "635a7397",
   "metadata": {},
   "source": [
    "## Requirement 8\n",
    "Demonstrate a heterogeneous list with at least 5 different data types. "
   ]
  },
  {
   "cell_type": "code",
   "execution_count": 17,
   "id": "67cc06c3",
   "metadata": {},
   "outputs": [
    {
     "name": "stdout",
     "output_type": "stream",
     "text": [
      "Hello - Type: <class 'str'>\n",
      "42 - Type: <class 'int'>\n",
      "3.14 - Type: <class 'float'>\n",
      "True - Type: <class 'bool'>\n",
      "[1, 2, 3] - Type: <class 'list'>\n"
     ]
    }
   ],
   "source": [
    "heterogeneous_list = [\"Hello\", 42, 3.14, True, [1, 2, 3]]\n",
    "\n",
    "# Print the list and its types\n",
    "for item in heterogeneous_list:\n",
    "    print(f\"{item} - Type: {type(item)}\")\n"
   ]
  },
  {
   "cell_type": "markdown",
   "id": "de1c9e40",
   "metadata": {},
   "source": [
    "## Requirement 9\n",
    "Create a Python array using the built-in array module. Demonstrate the following operations on the array: \n",
    "* append \n",
    "* insert \n",
    "* index \n",
    "* attempt to insert an element of a different type \n"
   ]
  },
  {
   "cell_type": "code",
   "execution_count": 18,
   "id": "12dffb37",
   "metadata": {},
   "outputs": [
    {
     "name": "stdout",
     "output_type": "stream",
     "text": [
      "After appending 6: array('i', [1, 2, 3, 4, 5, 6])\n",
      "After inserting 10 at index 2: array('i', [1, 2, 10, 3, 4, 5, 6])\n",
      "Index of 3: 3\n",
      "Error: 'str' object cannot be interpreted as an integer\n",
      "Array after unsuccessful attempt: array('i', [1, 2, 10, 3, 4, 5, 6])\n"
     ]
    }
   ],
   "source": [
    "from array import array\n",
    "\n",
    "# Create an array of integers (type 'i')\n",
    "arr = array('i', [1, 2, 3, 4, 5])\n",
    "\n",
    "# Append operation\n",
    "arr.append(6)\n",
    "print(\"After appending 6:\", arr)\n",
    "\n",
    "# Insert operation\n",
    "arr.insert(2, 10)  # Insert 10 at index 2\n",
    "print(\"After inserting 10 at index 2:\", arr)\n",
    "\n",
    "# Index operation\n",
    "index_of_3 = arr.index(3)\n",
    "print(\"Index of 3:\", index_of_3)\n",
    "\n",
    "# Attempt to insert an element of a different type\n",
    "try:\n",
    "    arr.insert(2, 'a')  # Attempt to insert a character into an array of integers\n",
    "except TypeError as e:\n",
    "    print(\"Error:\", e)\n",
    "\n",
    "# Printing the array after the unsuccessful attempt\n",
    "print(\"Array after unsuccessful attempt:\", arr)\n"
   ]
  },
  {
   "cell_type": "markdown",
   "id": "6a794343",
   "metadata": {},
   "source": [
    "## Requirement 10\n",
    "Create a NumPy array of 10 floats named one_d_array. Demonstrate the following operations on the array: \n",
    "* implicit casting (the author calls this up-casting) \n",
    "* explicit casting \n"
   ]
  },
  {
   "cell_type": "code",
   "execution_count": 19,
   "id": "c5a58560",
   "metadata": {},
   "outputs": [
    {
     "name": "stdout",
     "output_type": "stream",
     "text": [
      "Original array of floats:\n",
      "[ 1.1  2.2  3.3  4.4  5.5  6.6  7.7  8.8  9.9 10. ]\n",
      "\n",
      "Result of implicit casting (up-casting):\n",
      "[ 6.1  7.2  8.3  9.4 10.5 11.6 12.7 13.8 14.9 15. ]\n",
      "\n",
      "Array after explicit casting to integers:\n",
      "[ 1  2  3  4  5  6  7  8  9 10]\n"
     ]
    }
   ],
   "source": [
    "import numpy as np\n",
    "\n",
    "# Create a NumPy array of 10 floats\n",
    "one_d_array = np.array([1.1, 2.2, 3.3, 4.4, 5.5, 6.6, 7.7, 8.8, 9.9, 10.0], dtype=float)\n",
    "\n",
    "# Implicit casting (up-casting)\n",
    "# Performing an operation that requires a wider data type will automatically up-cast the array\n",
    "# For example, adding an integer to the array of floats\n",
    "result_implicit = one_d_array + 5\n",
    "\n",
    "# Explicit casting\n",
    "# Converting the array to integers using astype()\n",
    "one_d_array_int = one_d_array.astype(int)\n",
    "\n",
    "# Print original array and results\n",
    "print(\"Original array of floats:\")\n",
    "print(one_d_array)\n",
    "print(\"\\nResult of implicit casting (up-casting):\")\n",
    "print(result_implicit)\n",
    "print(\"\\nArray after explicit casting to integers:\")\n",
    "print(one_d_array_int)\n"
   ]
  },
  {
   "attachments": {
    "image.png": {
     "image/png": "[encoded data removed]"
    }
   },
   "cell_type": "markdown",
   "id": "6227bc06",
   "metadata": {},
   "source": [
    "## Requirement 11\n",
    "Use list comprehension to create a two-dimensional NumPy array named two_d_array with 5 rows and 3 columns with the following content: \n",
    "![image.png](attachment:image.png)"
   ]
  },
  {
   "cell_type": "code",
   "execution_count": 26,
   "id": "797ac0a6",
   "metadata": {},
   "outputs": [
    {
     "name": "stdout",
     "output_type": "stream",
     "text": [
      "[[1 2 3]\n",
      " [2 3 4]\n",
      " [3 4 5]\n",
      " [4 5 6]\n",
      " [5 6 7]]\n"
     ]
    }
   ],
   "source": [
    "import numpy as np\n",
    "\n",
    "two_d_array = np.array([[i+j for j in range(3)] for i in range(1,6)])\n",
    "print(two_d_array)"
   ]
  },
  {
   "cell_type": "markdown",
   "id": "66dd8402",
   "metadata": {},
   "source": [
    "## Requirement 12\n",
    "Create a 3-dimensional NumPy array named three_d_array with random numbers between 0-99. The shape of the array should be (3, 5, 5). Also display the size in bytes of the array. "
   ]
  },
  {
   "cell_type": "code",
   "execution_count": 27,
   "id": "2c3f3335",
   "metadata": {},
   "outputs": [
    {
     "name": "stdout",
     "output_type": "stream",
     "text": [
      "3-dimensional NumPy array:\n",
      "[[[95 87 33 62 98]\n",
      "  [55 56 78 51  4]\n",
      "  [95  9 95 95 15]\n",
      "  [74 83 28 39 52]\n",
      "  [65 76 10 40 24]]\n",
      "\n",
      " [[33 94 62  8 26]\n",
      "  [80 34  0 40 68]\n",
      "  [68 28 29 56 98]\n",
      "  [83 10 32 31 74]\n",
      "  [88 65 99 53 67]]\n",
      "\n",
      " [[25 89 92 54 59]\n",
      "  [19  4 90 71 45]\n",
      "  [88 32 89 45 38]\n",
      "  [ 1 23 86 13 81]\n",
      "  [34 33 24 29 56]]]\n",
      "\n",
      "Size of the array in bytes: 300\n"
     ]
    }
   ],
   "source": [
    "import numpy as np\n",
    "\n",
    "# Create a 3-dimensional NumPy array with random numbers between 0 and 99\n",
    "three_d_array = np.random.randint(0, 100, size=(3, 5, 5))\n",
    "\n",
    "# Display the array\n",
    "print(\"3-dimensional NumPy array:\")\n",
    "print(three_d_array)\n",
    "\n",
    "# Display the size in bytes of the array\n",
    "print(\"\\nSize of the array in bytes:\", three_d_array.nbytes)\n"
   ]
  },
  {
   "cell_type": "markdown",
   "id": "4807adc8",
   "metadata": {},
   "source": [
    "## Requirement 13\n",
    "Demonstrate accessing 4 different individual elements of the three_d_array. "
   ]
  },
  {
   "cell_type": "code",
   "execution_count": 28,
   "id": "68224a72",
   "metadata": {},
   "outputs": [
    {
     "name": "stdout",
     "output_type": "stream",
     "text": [
      "Element at index (0, 0, 0): 25\n",
      "Element at index (1, 2, 3): 48\n",
      "Element at index (2, 3, 1): 72\n",
      "Element at index (0, 4, 2): 3\n"
     ]
    }
   ],
   "source": [
    "import numpy as np\n",
    "\n",
    "# Create a 3-dimensional NumPy array with random numbers between 0 and 99\n",
    "three_d_array = np.random.randint(0, 100, size=(3, 5, 5))\n",
    "\n",
    "# Accessing individual elements\n",
    "# Accessing element at index (0, 0, 0)\n",
    "element_1 = three_d_array[0, 0, 0]\n",
    "# Accessing element at index (1, 2, 3)\n",
    "element_2 = three_d_array[1, 2, 3]\n",
    "# Accessing element at index (2, 3, 1)\n",
    "element_3 = three_d_array[2, 3, 1]\n",
    "# Accessing element at index (0, 4, 2)\n",
    "element_4 = three_d_array[0, 4, 2]\n",
    "\n",
    "# Display the accessed elements\n",
    "print(\"Element at index (0, 0, 0):\", element_1)\n",
    "print(\"Element at index (1, 2, 3):\", element_2)\n",
    "print(\"Element at index (2, 3, 1):\", element_3)\n",
    "print(\"Element at index (0, 4, 2):\", element_4)\n"
   ]
  },
  {
   "cell_type": "markdown",
   "id": "9057443f",
   "metadata": {},
   "source": [
    "## Requirement 14\n",
    "Demonstrate modifying 4 different individual elements of the three_d_array. "
   ]
  },
  {
   "cell_type": "code",
   "execution_count": 29,
   "id": "4344767c",
   "metadata": {},
   "outputs": [
    {
     "name": "stdout",
     "output_type": "stream",
     "text": [
      "Original 3-dimensional array:\n",
      "[[[11 84 79 99 69]\n",
      "  [29 59 94 78 80]\n",
      "  [ 9 50 86 74 54]\n",
      "  [96 44  1 43 68]\n",
      "  [55 39  4 47 96]]\n",
      "\n",
      " [[23 72 56 12 92]\n",
      "  [60 64 91 40 77]\n",
      "  [35 58  8 68  7]\n",
      "  [52 71 79 72 98]\n",
      "  [58 43 67 73 53]]\n",
      "\n",
      " [[49 22 78 98 24]\n",
      "  [89 76  0 71 85]\n",
      "  [69 72 82 35 69]\n",
      "  [45 63  1 50 59]\n",
      "  [80 22 27 88 96]]]\n",
      "\n",
      "Modified 3-dimensional array:\n",
      "[[[100  84  79  99  69]\n",
      "  [ 29  59  94  78  80]\n",
      "  [  9  50  86  74  54]\n",
      "  [ 96  44   1  43  68]\n",
      "  [ 55  39 400  47  96]]\n",
      "\n",
      " [[ 23  72  56  12  92]\n",
      "  [ 60  64  91  40  77]\n",
      "  [ 35  58   8 200   7]\n",
      "  [ 52  71  79  72  98]\n",
      "  [ 58  43  67  73  53]]\n",
      "\n",
      " [[ 49  22  78  98  24]\n",
      "  [ 89  76   0  71  85]\n",
      "  [ 69  72  82  35  69]\n",
      "  [ 45 300   1  50  59]\n",
      "  [ 80  22  27  88  96]]]\n"
     ]
    }
   ],
   "source": [
    "import numpy as np\n",
    "\n",
    "# Create a 3-dimensional NumPy array with random numbers between 0 and 99\n",
    "three_d_array = np.random.randint(0, 100, size=(3, 5, 5))\n",
    "\n",
    "# Display the original array\n",
    "print(\"Original 3-dimensional array:\")\n",
    "print(three_d_array)\n",
    "\n",
    "# Modify individual elements\n",
    "# Modifying element at index (0, 0, 0)\n",
    "three_d_array[0, 0, 0] = 100\n",
    "# Modifying element at index (1, 2, 3)\n",
    "three_d_array[1, 2, 3] = 200\n",
    "# Modifying element at index (2, 3, 1)\n",
    "three_d_array[2, 3, 1] = 300\n",
    "# Modifying element at index (0, 4, 2)\n",
    "three_d_array[0, 4, 2] = 400\n",
    "\n",
    "# Display the modified array\n",
    "print(\"\\nModified 3-dimensional array:\")\n",
    "print(three_d_array)\n"
   ]
  },
  {
   "cell_type": "markdown",
   "id": "d1f401d3",
   "metadata": {},
   "source": [
    "## Requirement 15\n",
    "Using one_d_array, demonstrate slicing: \n",
    "* the first 7 elements\n",
    "* all after index 7\n",
    "* from index 3 to index 8\n",
    "* every other element\n",
    "* elements reversed\n",
    "* reverse every other element from index 7"
   ]
  },
  {
   "cell_type": "code",
   "execution_count": 31,
   "id": "eed0485a",
   "metadata": {},
   "outputs": [
    {
     "name": "stdout",
     "output_type": "stream",
     "text": [
      "Original array: [ 1  2  3  4  5  6  7  8  9 10]\n",
      "\n",
      "Sliced - first 7 elements: [1 2 3 4 5 6 7]\n",
      "Sliced - all after index 7: [ 8  9 10]\n",
      "Sliced - from index 3 to index 8: [4 5 6 7 8 9]\n",
      "Sliced - every other element: [1 3 5 7 9]\n",
      "Sliced - elements reversed: [10  9  8  7  6  5  4  3  2  1]\n",
      "Sliced - reverse every other element from index 7: [ 1  2  3  4  5  6  7 10  9  8]\n"
     ]
    }
   ],
   "source": [
    "import numpy as np\n",
    "\n",
    "# Create a 1-dimensional NumPy array\n",
    "one_d_array = np.array([1, 2, 3, 4, 5, 6, 7, 8, 9, 10])\n",
    "\n",
    "# Slicing: the first 7 elements\n",
    "sliced_1 = one_d_array[:7]\n",
    "\n",
    "# Slicing: all after index 7\n",
    "sliced_2 = one_d_array[7:]\n",
    "\n",
    "# Slicing: from index 3 to index 8\n",
    "sliced_3 = one_d_array[3:9]\n",
    "\n",
    "# Slicing: every other element\n",
    "sliced_4 = one_d_array[::2]\n",
    "\n",
    "# Slicing: elements reversed\n",
    "sliced_5 = one_d_array[::-1]\n",
    "\n",
    "# Slicing: reverse every other element from index 7\n",
    "sliced_6 = np.concatenate((one_d_array[:7], one_d_array[7:][::-1]))\n",
    "\n",
    "# Displaying sliced arrays\n",
    "print(\"Original array:\", one_d_array)\n",
    "print(\"\\nSliced - first 7 elements:\", sliced_1)\n",
    "print(\"Sliced - all after index 7:\", sliced_2)\n",
    "print(\"Sliced - from index 3 to index 8:\", sliced_3)\n",
    "print(\"Sliced - every other element:\", sliced_4)\n",
    "print(\"Sliced - elements reversed:\", sliced_5)\n",
    "print(\"Sliced - reverse every other element from index 7:\", sliced_6)\n"
   ]
  },
  {
   "cell_type": "markdown",
   "id": "368bf3a3",
   "metadata": {},
   "source": [
    "## Requirement 16\n",
    "Using two_d_array, demonstrate slicing: \n",
    "* first 2 rows and first 2 columns \n",
    "* all rows and every other column \n",
    "* all columns and every other row \n",
    "* extracting a subarray \n"
   ]
  },
  {
   "cell_type": "code",
   "execution_count": 37,
   "id": "0e07bfa2",
   "metadata": {},
   "outputs": [
    {
     "name": "stdout",
     "output_type": "stream",
     "text": [
      "Original 2-dimensional array:\n",
      "[[ 1  2  3  4  5]\n",
      " [ 6  7  8  9 10]\n",
      " [11 12 13 14 15]\n",
      " [16 17 18 19 20]\n",
      " [21 22 23 24 25]]\n",
      "\n",
      "Sliced - first 2 rows and first 2 columns:\n",
      "[[1 2]\n",
      " [6 7]]\n",
      "\n",
      "Sliced - all rows and every other column:\n",
      "[[ 1  3  5]\n",
      " [ 6  8 10]\n",
      " [11 13 15]\n",
      " [16 18 20]\n",
      " [21 23 25]]\n",
      "\n",
      "Sliced - all columns and every other row:\n",
      "[[ 1  2  3  4  5]\n",
      " [11 12 13 14 15]\n",
      " [21 22 23 24 25]]\n",
      "\n",
      "Extracted subarray:\n",
      "[[ 7  8  9]\n",
      " [12 13 14]\n",
      " [17 18 19]]\n"
     ]
    }
   ],
   "source": [
    "import numpy as np\n",
    "\n",
    "# Create a 2-dimensional NumPy array\n",
    "two_d_array = np.array([[1, 2, 3, 4, 5],\n",
    "                         [6, 7, 8, 9, 10],\n",
    "                         [11, 12, 13, 14, 15],\n",
    "                         [16, 17, 18, 19, 20],\n",
    "                         [21, 22, 23, 24, 25]])\n",
    "\n",
    "# Slicing: first 2 rows and first 2 columns\n",
    "sliced_1 = two_d_array[:2, :2]\n",
    "\n",
    "# Slicing: all rows and every other column\n",
    "sliced_2 = two_d_array[:, ::2]\n",
    "\n",
    "# Slicing: all columns and every other row\n",
    "sliced_3 = two_d_array[::2, :]\n",
    "\n",
    "# Slicing: extracting a subarray\n",
    "subarray = two_d_array[1:4, 1:4]\n",
    "\n",
    "# Displaying sliced arrays\n",
    "print(\"Original 2-dimensional array:\")\n",
    "print(two_d_array)\n",
    "\n",
    "print(\"\\nSliced - first 2 rows and first 2 columns:\")\n",
    "print(sliced_1)\n",
    "\n",
    "print(\"\\nSliced - all rows and every other column:\")\n",
    "print(sliced_2)\n",
    "\n",
    "print(\"\\nSliced - all columns and every other row:\")\n",
    "print(sliced_3)\n",
    "\n",
    "print(\"\\nExtracted subarray:\")\n",
    "print(subarray)\n"
   ]
  },
  {
   "cell_type": "markdown",
   "id": "52599798",
   "metadata": {},
   "source": [
    "## Requirement 17\n",
    "Use NumPy’s arrange and reshape methods to create a 10x10 array with values as shown: "
   ]
  },
  {
   "cell_type": "code",
   "execution_count": 36,
   "id": "0efa77a9",
   "metadata": {},
   "outputs": [
    {
     "name": "stdout",
     "output_type": "stream",
     "text": [
      "The original array: \n",
      " [  1   2   3   4   5   6   7   8   9  10  11  12  13  14  15  16  17  18\n",
      "  19  20  21  22  23  24  25  26  27  28  29  30  31  32  33  34  35  36\n",
      "  37  38  39  40  41  42  43  44  45  46  47  48  49  50  51  52  53  54\n",
      "  55  56  57  58  59  60  61  62  63  64  65  66  67  68  69  70  71  72\n",
      "  73  74  75  76  77  78  79  80  81  82  83  84  85  86  87  88  89  90\n",
      "  91  92  93  94  95  96  97  98  99 100]\n",
      "The original array: \n",
      " [[  1   2   3   4   5   6   7   8   9  10]\n",
      " [ 11  12  13  14  15  16  17  18  19  20]\n",
      " [ 21  22  23  24  25  26  27  28  29  30]\n",
      " [ 31  32  33  34  35  36  37  38  39  40]\n",
      " [ 41  42  43  44  45  46  47  48  49  50]\n",
      " [ 51  52  53  54  55  56  57  58  59  60]\n",
      " [ 61  62  63  64  65  66  67  68  69  70]\n",
      " [ 71  72  73  74  75  76  77  78  79  80]\n",
      " [ 81  82  83  84  85  86  87  88  89  90]\n",
      " [ 91  92  93  94  95  96  97  98  99 100]]\n"
     ]
    }
   ],
   "source": [
    "import numpy as np\n",
    "\n",
    "# Create a 1D array with values from 1 to 100\n",
    "arr_1d = np.arange(1, 101)\n",
    "print(\"The original array: \\n\",arr_1d)\n",
    "\n",
    "# Reshape the 1D array into a 10x10 array\n",
    "arr_2d = arr_1d.reshape(10, 10)\n",
    "print(\"The 10x10 array: \\n\",arr_2d)\n"
   ]
  },
  {
   "cell_type": "markdown",
   "id": "6360ef3b",
   "metadata": {},
   "source": [
    "## Requirement 18\n",
    "Using one_d_array, create a row vector and a column vector. "
   ]
  },
  {
   "cell_type": "code",
   "execution_count": null,
   "id": "fcf4de12",
   "metadata": {},
   "outputs": [],
   "source": [
    "import numpy as np\n",
    "\n",
    "# Create a 1-dimensional NumPy array\n",
    "one_d_array = np.array([1, 2, 3, 4, 5])\n",
    "\n",
    "# Create a row vector\n",
    "row_vector = one_d_array.reshape(1, -1)  # Reshape to have 1 row and as many columns as needed (-1)\n",
    "\n",
    "# Create a column vector\n",
    "column_vector = one_d_array.reshape(-1, 1)  # Reshape to have as many rows as needed (-1) and 1 column\n",
    "\n",
    "# Display the row vector and column vector\n",
    "print(\"Original 1-dimensional array:\")\n",
    "print(one_d_array)\n",
    "\n",
    "print(\"\\nRow vector:\")\n",
    "print(row_vector)\n",
    "\n",
    "print(\"\\nColumn vector:\")\n",
    "print(column_vector)\n"
   ]
  },
  {
   "cell_type": "markdown",
   "id": "f7660351",
   "metadata": {},
   "source": [
    "## Requirement 19\n",
    "Explain what a NumPy universal function is and why they are useful. "
   ]
  },
  {
   "cell_type": "markdown",
   "id": "5cf5c5bc",
   "metadata": {},
   "source": [
    "A NumPy universal function (ufunc) is a function that operates element-wise on NumPy arrays. These functions are called \"universal\" because they can apply to arrays of any size and shape, broadcasting the operation if necessary. Ufuncs include basic arithmetic operations (addition, subtraction, multiplication, division), trigonometric functions, exponential and logarithmic functions, comparison functions, and more.\n",
    "\n",
    "Here are some key characteristics and reasons why NumPy ufuncs are useful:\n",
    "\n",
    "* Element-wise Operations: Ufuncs perform operations on each element of the array individually, which makes them highly efficient when working with large arrays. This allows for concise and readable code when applying operations to arrays.\n",
    "\n",
    "* Broadcasting: Ufuncs automatically handle broadcasting, which means they can operate on arrays of different shapes and sizes. This simplifies operations where arrays may have different dimensions, making the code more versatile and easier to write.\n",
    "\n",
    "* Vectorized Operations: Ufuncs are implemented in compiled C code, which makes them much faster compared to equivalent operations performed using Python loops. This vectorized operation significantly improves performance, especially when dealing with large datasets.\n",
    "\n",
    "* Interoperability: Ufuncs seamlessly integrate with other NumPy functions and operations, as well as with libraries such as SciPy and pandas. This interoperability allows for complex computations and data manipulations to be performed efficiently.\n",
    "\n",
    "* Standardization: NumPy ufuncs provide a standardized interface for common mathematical operations, ensuring consistency across different functions and operations. This standardization simplifies code maintenance and improves code readability.\n",
    "\n",
    "Overall, NumPy universal functions are fundamental to the functionality and efficiency of NumPy arrays. They enable fast and efficient element-wise operations on arrays of any size and shape, making NumPy a powerful tool for numerical computing and data analysis in Python."
   ]
  },
  {
   "cell_type": "markdown",
   "id": "5d298c4c",
   "metadata": {},
   "source": [
    "## Requirement 20\n",
    "Demonstrate the use of the out argument. "
   ]
  },
  {
   "cell_type": "code",
   "execution_count": 39,
   "id": "97e88aa9",
   "metadata": {},
   "outputs": [
    {
     "name": "stdout",
     "output_type": "stream",
     "text": [
      "Result of addition: [ 6  8 10 12]\n"
     ]
    }
   ],
   "source": [
    "import numpy as np\n",
    "\n",
    "# Create two input arrays\n",
    "x = np.array([1, 2, 3, 4])\n",
    "y = np.array([5, 6, 7, 8])\n",
    "\n",
    "# Create an empty array to store the result\n",
    "result = np.empty_like(x)\n",
    "\n",
    "# Add the elements of x and y and store the result in the 'result' array\n",
    "np.add(x, y, out=result)\n",
    "\n",
    "# Display the result\n",
    "print(\"Result of addition:\", result)\n"
   ]
  },
  {
   "cell_type": "markdown",
   "id": "473d567d",
   "metadata": {},
   "source": [
    "## Requirement 21\n",
    "Use aggregates to show the product of all elements of one_d_array. "
   ]
  },
  {
   "cell_type": "code",
   "execution_count": 40,
   "id": "abb98dce",
   "metadata": {},
   "outputs": [
    {
     "name": "stdout",
     "output_type": "stream",
     "text": [
      "Product of all elements in one_d_array: 120\n"
     ]
    }
   ],
   "source": [
    "import numpy as np\n",
    "\n",
    "# Create a 1-dimensional NumPy array\n",
    "one_d_array = np.array([1, 2, 3, 4, 5])\n",
    "\n",
    "# Calculate the product of all elements\n",
    "product = np.prod(one_d_array)\n",
    "\n",
    "# Display the result\n",
    "print(\"Product of all elements in one_d_array:\", product)\n"
   ]
  },
  {
   "cell_type": "markdown",
   "id": "9997310a",
   "metadata": {},
   "source": [
    "## Requirement 22\n",
    "Create the NumPy arrays x and y below and use the multiply() and outer() methods to produce the output as shown. "
   ]
  },
  {
   "cell_type": "code",
   "execution_count": 46,
   "id": "32725431",
   "metadata": {},
   "outputs": [
    {
     "name": "stdout",
     "output_type": "stream",
     "text": [
      "x =  [1 2 3 4 5]\n",
      "\n",
      "y =  [2 2 2 2 2]\n",
      "\n",
      "array ( [[ 2  2  2  2  2]\n",
      " [ 4  4  4  4  4]\n",
      " [ 6  6  6  6  6]\n",
      " [ 8  8  8  8  8]\n",
      " [10 10 10 10 10]] )\n"
     ]
    }
   ],
   "source": [
    "import numpy as np\n",
    "\n",
    "# Create NumPy arrays x and y\n",
    "x = np.array([1, 2, 3, 4, 5])\n",
    "y = np.array([2, 2, 2, 2, 2 ])\n",
    "\n",
    "# Use the multiply() method to compute element-wise multiplication\n",
    "result_multiply = np.multiply(x[:, np.newaxis], y)\n",
    "\n",
    "# Use the outer() method to compute the outer product\n",
    "result_outer = np.outer(x, y)\n",
    "\n",
    "# Display the results\n",
    "print(\"x = \", x)\n",
    "print(\"\\ny = \", y)\n",
    "print(\"\\narray (\",result_outer,\")\")\n"
   ]
  },
  {
   "cell_type": "markdown",
   "id": "a26db9ff",
   "metadata": {},
   "source": [
    "## Requirement 23\n",
    "Demonstrate NumPy’s sum, min, and max functions. Use the %timeit magic function to compare the performance to Python’s built-in sum, min, and max functions. "
   ]
  },
  {
   "cell_type": "code",
   "execution_count": 50,
   "id": "4b77e685",
   "metadata": {},
   "outputs": [
    {
     "name": "stdout",
     "output_type": "stream",
     "text": [
      "NumPy functions:\n",
      "4.16 µs ± 80.8 ns per loop (mean ± std. dev. of 7 runs, 100,000 loops each)\n",
      "4.11 µs ± 69.9 ns per loop (mean ± std. dev. of 7 runs, 100,000 loops each)\n",
      "4.2 µs ± 254 ns per loop (mean ± std. dev. of 7 runs, 100,000 loops each)\n",
      "\n",
      "Python's built-in functions:\n",
      "1.32 µs ± 14.4 ns per loop (mean ± std. dev. of 7 runs, 1,000,000 loops each)\n",
      "1.26 µs ± 54.2 ns per loop (mean ± std. dev. of 7 runs, 1,000,000 loops each)\n",
      "1.31 µs ± 43.1 ns per loop (mean ± std. dev. of 7 runs, 1,000,000 loops each)\n"
     ]
    }
   ],
   "source": [
    "import numpy as np\n",
    "\n",
    "# Define a NumPy array\n",
    "arr = np.random.randint(0, 5, size=10)  # Creating a large array of random integers\n",
    "# NumPy functions\n",
    "print(\"NumPy functions:\")\n",
    "%timeit np_sum = np.sum(arr)\n",
    "%timeit np_min = np.min(arr)\n",
    "%timeit np_max = np.max(arr)\n",
    "\n",
    "# Python's built-in functions\n",
    "print(\"\\nPython's built-in functions:\")\n",
    "%timeit py_sum = sum(arr)\n",
    "%timeit py_min = min(arr)\n",
    "%timeit py_max = max(arr)\n"
   ]
  },
  {
   "cell_type": "markdown",
   "id": "8a1dc527",
   "metadata": {},
   "source": [
    "## Requirement 24\n",
    "Use the file president_heights.csv to produce a histogram of U.S. President height information. "
   ]
  },
  {
   "cell_type": "code",
   "execution_count": 9,
   "id": "58aeb263",
   "metadata": {},
   "outputs": [
    {
     "data": {
      "image/png": "[encoded data removed]",
      "text/plain": [
       "<Figure size 640x480 with 1 Axes>"
      ]
     },
     "metadata": {},
     "output_type": "display_data"
    }
   ],
   "source": [
    "import pandas as pd\n",
    "import matplotlib.pyplot as plt\n",
    "\n",
    "# Load the data from the CSV file into a DataFrame\n",
    "data = pd.read_csv(r'c:\\Users\\lethi\\President_Heights.csv')\n",
    "\n",
    "# Extract the heights from the DataFrame\n",
    "heights = data['height(cm)']\n",
    "\n",
    "# Create a histogram\n",
    "plt.hist(heights, bins=10, color='skyblue', edgecolor='black')\n",
    "\n",
    "# Add labels and title\n",
    "plt.xlabel('Height (cm)')\n",
    "plt.ylabel('Frequency')\n",
    "plt.title('Height Distribution of U.S. Presidents')\n",
    "\n",
    "# Show the plot\n",
    "plt.show()\n",
    "\n"
   ]
  },
  {
   "cell_type": "markdown",
   "id": "387126c0",
   "metadata": {},
   "source": [
    "## Requirement 25\n",
    "Use broadcasting and Matplotlib to plot produce a plot of a twodimensional array"
   ]
  },
  {
   "cell_type": "code",
   "execution_count": 53,
   "id": "67760f5f",
   "metadata": {},
   "outputs": [
    {
     "data": {
      "image/png": "[encoded data removed]",
      "text/plain": [
       "<Figure size 800x600 with 2 Axes>"
      ]
     },
     "metadata": {},
     "output_type": "display_data"
    }
   ],
   "source": [
    "import numpy as np\n",
    "import matplotlib.pyplot as plt\n",
    "\n",
    "# Create a two-dimensional array\n",
    "array_2d = np.random.rand(10, 10)  # Example 10x10 random array\n",
    "\n",
    "# Create meshgrid coordinates using broadcasting\n",
    "x = np.arange(array_2d.shape[0])[:, np.newaxis]\n",
    "y = np.arange(array_2d.shape[1])[np.newaxis, :]\n",
    "\n",
    "# Plot the array using Matplotlib\n",
    "plt.figure(figsize=(8, 6))\n",
    "plt.imshow(array_2d, cmap='viridis', origin='lower', extent=(x.min(), x.max(), y.min(), y.max()))\n",
    "plt.colorbar(label='Value')\n",
    "plt.title('Two-dimensional Array Plot')\n",
    "plt.xlabel('X-axis')\n",
    "plt.ylabel('Y-axis')\n",
    "plt.grid(True)\n",
    "plt.show()\n"
   ]
  },
  {
   "cell_type": "markdown",
   "id": "567fd8ed",
   "metadata": {},
   "source": [
    "## Requirement 26\n",
    "Use markdown to include a statement at the end of assignment-09.ipynb explaining your experiences with Assignment 09. Make this authentic (minimum of 2-3 sentences). "
   ]
  },
  {
   "cell_type": "markdown",
   "id": "817c7680",
   "metadata": {},
   "source": [
    "## Reflection on Assignment 09\n",
    "\n",
    "Working on Assignment 09 was both challenging and rewarding. I enjoyed diving deeper into the concepts of NumPy arrays, broadcasting, and universal functions. However, I found the task of optimizing performance using NumPy functions and comparing them to Python's built-in functions to be particularly challenging. Overall, this assignment provided valuable insights into the power and versatility of NumPy for efficient numerical computing in Python.\n"
   ]
  },
  {
   "cell_type": "code",
   "execution_count": null,
   "id": "15127f58",
   "metadata": {},
   "outputs": [],
   "source": []
  }
 ],
 "metadata": {
  "kernelspec": {
   "display_name": "Python 3 (ipykernel)",
   "language": "python",
   "name": "python3"
  },
  "language_info": {
   "codemirror_mode": {
    "name": "ipython",
    "version": 3
   },
   "file_extension": ".py",
   "mimetype": "text/x-python",
   "name": "python",
   "nbconvert_exporter": "python",
   "pygments_lexer": "ipython3",
   "version": "3.11.5"
  }
 },
 "nbformat": 4,
 "nbformat_minor": 5
}
