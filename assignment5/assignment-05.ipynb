{
 "cells": [
  {
   "cell_type": "markdown",
   "id": "44c2e300",
   "metadata": {},
   "source": [
    "# This is Assignment 05 - Thienkim Le"
   ]
  },
  {
   "cell_type": "markdown",
   "id": "b0a6b60e",
   "metadata": {},
   "source": [
    "## Requirement 4"
   ]
  },
  {
   "cell_type": "code",
   "execution_count": 16,
   "id": "c4487a12",
   "metadata": {
    "scrolled": true
   },
   "outputs": [
    {
     "name": "stdout",
     "output_type": "stream",
     "text": [
      "4 = 2 + 2\n",
      "5 = 7 - 2\n",
      "24 = 4 * 6\n",
      "3.75 = 15 / 4\n",
      "3 = 15 // 4\n",
      "64 = 4 ** 3\n"
     ]
    }
   ],
   "source": [
    "# Demonstrate arithmetic operations\n",
    "x = 2 + 2\n",
    "print(x, \"= 2 + 2\")\n",
    "x = 7 - 2\n",
    "print(x, \"= 7 - 2\")\n",
    "x = 4 * 6\n",
    "print(x, \"= 4 * 6\")\n",
    "x = 15 / 4\n",
    "print(x, \"= 15 / 4\")\n",
    "x = 15 // 4\n",
    "print(x, \"= 15 // 4\")\n",
    "x = 4 ** 3\n",
    "print(x, \"= 4 ** 3\")"
   ]
  },
  {
   "cell_type": "markdown",
   "id": "8eab6c99",
   "metadata": {},
   "source": [
    "## Requirement 5"
   ]
  },
  {
   "cell_type": "code",
   "execution_count": 9,
   "id": "abb9f881",
   "metadata": {},
   "outputs": [
    {
     "name": "stdout",
     "output_type": "stream",
     "text": [
      "5  equal to  5\n",
      "5  not equal to  9\n",
      "9  greater than  5\n",
      "5  less than  9\n",
      "5  less than or equal to  9\n",
      "5  greater than or equal to  5\n"
     ]
    }
   ],
   "source": [
    "# Demonstrate the following comparison operations in a cell\n",
    "a = 5\n",
    "b = 5\n",
    "c = 9\n",
    "a==b\n",
    "print(a, \" equal to \", b)\n",
    "a!=b\n",
    "print(a, \" not equal to \", c)\n",
    "c>b\n",
    "print(c, \" greater than \", b)\n",
    "b<c\n",
    "print(b, \" less than \", c)\n",
    "a<=c\n",
    "print(a, \" less than or equal to \", c)\n",
    "a>=b\n",
    "print(a, \" greater than or equal to \", b)"
   ]
  },
  {
   "cell_type": "markdown",
   "id": "05fcbd36",
   "metadata": {},
   "source": [
    "## Requirement 6"
   ]
  },
  {
   "cell_type": "code",
   "execution_count": null,
   "id": "90d7858c",
   "metadata": {
    "scrolled": true
   },
   "outputs": [],
   "source": [
    "import operators"
   ]
  },
  {
   "cell_type": "markdown",
   "id": "163d7ee8",
   "metadata": {},
   "source": [
    "This is the operators module."
   ]
  },
  {
   "cell_type": "code",
   "execution_count": null,
   "id": "4d24f667",
   "metadata": {},
   "outputs": [],
   "source": [
    "!python operators.py"
   ]
  },
  {
   "cell_type": "markdown",
   "id": "1510449c",
   "metadata": {},
   "source": [
    "This is the operators.py"
   ]
  },
  {
   "cell_type": "markdown",
   "id": "d45ff069",
   "metadata": {},
   "source": [
    "## Requirement 7"
   ]
  },
  {
   "cell_type": "code",
   "execution_count": 17,
   "id": "bfccbf3d",
   "metadata": {},
   "outputs": [
    {
     "name": "stdout",
     "output_type": "stream",
     "text": [
      "Even numbers: [2, 14, 30, 42, 64, 80, 8, 22, 40, 62, 86]\n",
      "Odd numbers: [7, 23, 51, 73, 3, 15, 31, 53, 77]\n"
     ]
    }
   ],
   "source": [
    "# Create two lists, list_1 and list_2, and populate them with arbitrary numbers\n",
    "list_1 = [2, 7, 14, 23, 30, 42, 51, 64, 73, 80]  # Some even and odd numbers\n",
    "list_2 = [3, 8, 15, 22, 31, 40, 53, 62, 77, 86]  # Some even and odd numbers\n",
    "# Create two empty lists, list_even and list_odd\n",
    "list_even = []\n",
    "list_odd = []\n",
    "\n",
    "# Populate list_even with even numbers from list_1 and list_2\n",
    "for num in list_1 + list_2:  # Concatenate both lists to iterate over all numbers\n",
    "    if num % 2 == 0:  # Check if the number is even\n",
    "        list_even.append(num)\n",
    "\n",
    "# Populate list_odd with odd numbers from list_1 and list_2\n",
    "for num in list_1 + list_2:  # Concatenate both lists to iterate over all numbers\n",
    "    if num % 2 != 0:  # Check if the number is odd\n",
    "        list_odd.append(num)\n",
    "\n",
    "# Print list_even and list_odd\n",
    "print(\"Even numbers:\", list_even)\n",
    "print(\"Odd numbers:\", list_odd)"
   ]
  },
  {
   "cell_type": "markdown",
   "id": "b0886190",
   "metadata": {},
   "source": [
    "## Requirement 8"
   ]
  },
  {
   "cell_type": "code",
   "execution_count": 19,
   "id": "bc231bcc",
   "metadata": {},
   "outputs": [
    {
     "name": "stdout",
     "output_type": "stream",
     "text": [
      "5 is an integer.\n",
      "7.2 is not an integer.\n",
      "-10 is an integer.\n",
      "3.0 is not an integer.\n",
      "15.5 is not an integer.\n",
      "-2.8 is not an integer.\n"
     ]
    }
   ],
   "source": [
    "# Define a list containing various numbers\n",
    "numbers = [5, 7.2, -10, 3.0, 15.5, -2.8]\n",
    "\n",
    "# Iterate through the list and test each number\n",
    "for num in numbers:\n",
    "    if isinstance(num, int):\n",
    "        print(f\"{num} is an integer.\")\n",
    "    else:\n",
    "        print(f\"{num} is not an integer.\")"
   ]
  },
  {
   "cell_type": "code",
   "execution_count": 1,
   "id": "d71f5db8",
   "metadata": {},
   "outputs": [
    {
     "ename": "AttributeError",
     "evalue": "'int' object has no attribute 'is_integer'",
     "output_type": "error",
     "traceback": [
      "\u001b[1;31m---------------------------------------------------------------------------\u001b[0m",
      "\u001b[1;31mAttributeError\u001b[0m                            Traceback (most recent call last)",
      "Cell \u001b[1;32mIn[1], line 6\u001b[0m\n\u001b[0;32m      4\u001b[0m \u001b[38;5;66;03m# Test each number if it's an integer or not\u001b[39;00m\n\u001b[0;32m      5\u001b[0m \u001b[38;5;28;01mfor\u001b[39;00m num \u001b[38;5;129;01min\u001b[39;00m numbers:\n\u001b[1;32m----> 6\u001b[0m     \u001b[38;5;28;01mif\u001b[39;00m num\u001b[38;5;241m.\u001b[39mis_integer():\n\u001b[0;32m      7\u001b[0m         \u001b[38;5;28mprint\u001b[39m(\u001b[38;5;124mf\u001b[39m\u001b[38;5;124m\"\u001b[39m\u001b[38;5;132;01m{\u001b[39;00mnum\u001b[38;5;132;01m}\u001b[39;00m\u001b[38;5;124m is an integer.\u001b[39m\u001b[38;5;124m\"\u001b[39m)\n\u001b[0;32m      8\u001b[0m     \u001b[38;5;28;01melse\u001b[39;00m:\n",
      "\u001b[1;31mAttributeError\u001b[0m: 'int' object has no attribute 'is_integer'"
     ]
    }
   ],
   "source": [
    "# Define some numbers\n",
    "numbers = [5, 5.0, 5.5, -10, -10.0, -10.5]\n",
    "\n",
    "# Test each number if it's an integer or not\n",
    "for num in numbers:\n",
    "    if num.is_integer():\n",
    "        print(f\"{num} is an integer.\")\n",
    "    else:\n",
    "        print(f\"{num} is not an integer.\")\n"
   ]
  },
  {
   "cell_type": "markdown",
   "id": "de259b63",
   "metadata": {},
   "source": [
    "## Requirement 9"
   ]
  },
  {
   "cell_type": "code",
   "execution_count": 2,
   "id": "e81c52f7",
   "metadata": {},
   "outputs": [
    {
     "name": "stdout",
     "output_type": "stream",
     "text": [
      "False\n",
      "True\n",
      "False\n",
      "True\n",
      "True\n",
      "True\n",
      "True\n",
      "0x203798b0bc0\n",
      "0x203798b0bc0\n"
     ]
    }
   ],
   "source": [
    "# Boolean operations\n",
    "print(True and False)  # False\n",
    "print(True or False)   # True\n",
    "print(not True)        # False\n",
    "\n",
    "# Identity operations\n",
    "x = 10\n",
    "y = 10\n",
    "z = 20\n",
    "print(x is y)          # True, because x and y reference the same object with value 10\n",
    "print(x is not z)      # True, because x and z reference different objects with different values\n",
    "\n",
    "# Membership operations\n",
    "lst = [1, 2, 3, 4, 5]\n",
    "print(1 in lst)        # True, because 1 is present in the list\n",
    "print(6 not in lst)    # True, because 6 is not present in the list\n",
    "\n",
    "# Object Identity\n",
    "a = [1, 2, 3]\n",
    "b = a\n",
    "print(hex(id(a)))      # Hexadecimal address of object a\n",
    "print(hex(id(b)))      # Hexadecimal address of object b, which is the same as a since they reference the same object\n"
   ]
  },
  {
   "cell_type": "markdown",
   "id": "b9bf4638",
   "metadata": {},
   "source": [
    "## Requirement 10"
   ]
  },
  {
   "cell_type": "code",
   "execution_count": null,
   "id": "271f5662",
   "metadata": {},
   "outputs": [],
   "source": [
    "from decimal import Decimal, getcontext\n",
    "# Using default precision\n",
    "a = Decimal('1.1')\n",
    "b = Decimal('2.2')\n",
    "c = a + b\n",
    "print(c)  # Output: 3.3\n",
    "\n",
    "# Setting a higher precision\n",
    "getcontext().prec = 10  # Setting precision to 10 digits\n",
    "d = Decimal('1.1111111111')\n",
    "e = Decimal('2.2222222222')\n",
    "f = d + e\n",
    "print(f)  # Output: 3.3333333333\n",
    "\n",
    "# Setting a lower precision\n",
    "getcontext().prec = 3  # Setting precision to 3 digits\n",
    "g = Decimal('1.111')\n",
    "h = Decimal('2.222')\n",
    "i = g + h\n",
    "print(i)  # Output: 3.33"
   ]
  },
  {
   "cell_type": "code",
   "execution_count": null,
   "id": "2f319886",
   "metadata": {},
   "outputs": [],
   "source": []
  },
  {
   "cell_type": "markdown",
   "id": "d8420bd6",
   "metadata": {},
   "source": [
    "## Requirement 11"
   ]
  },
  {
   "cell_type": "code",
   "execution_count": 4,
   "id": "e8c90065",
   "metadata": {},
   "outputs": [
    {
     "name": "stdout",
     "output_type": "stream",
     "text": [
      "Length of the string: 11\n",
      "Uppercase: HELLO WORLD\n",
      "Capitalized: Hello world\n",
      "Concatenated string: Hello World\n",
      "Multi-concatenated string: HelloHelloHello\n",
      "First character: h\n",
      "Last character: d\n"
     ]
    }
   ],
   "source": [
    "# Define a string\n",
    "my_string = \"hello world\"\n",
    "\n",
    "# Length of the string\n",
    "print(\"Length of the string:\", len(my_string))  # Output: 11\n",
    "\n",
    "# Convert the string to uppercase\n",
    "print(\"Uppercase:\", my_string.upper())  # Output: HELLO WORLD\n",
    "\n",
    "# Capitalize the first character of the string\n",
    "print(\"Capitalized:\", my_string.capitalize())  # Output: Hello world\n",
    "\n",
    "# Concatenation of strings\n",
    "string1 = \"Hello\"\n",
    "string2 = \"World\"\n",
    "concatenated_string = string1 + \" \" + string2\n",
    "print(\"Concatenated string:\", concatenated_string)  # Output: Hello World\n",
    "\n",
    "# Multi-concatenation\n",
    "multi_concatenated_string = string1 * 3\n",
    "print(\"Multi-concatenated string:\", multi_concatenated_string)  # Output: HelloHelloHello\n",
    "\n",
    "# Access individual characters\n",
    "print(\"First character:\", my_string[0])  # Output: h\n",
    "print(\"Last character:\", my_string[-1])  # Output: d\n"
   ]
  },
  {
   "cell_type": "markdown",
   "id": "5eef8402",
   "metadata": {},
   "source": [
    "## Personal Reflection on Assignment 05\n",
    "\n",
    "Working on Assignment 05 was an insightful experience. I particularly enjoyed exploring the various string operations and practicing with different Python functionalities. While some challenges arose, such as debugging concatenation issues, overcoming them provided valuable learning opportunities. Overall, this assignment enhanced my understanding of string manipulation in Python and strengthened my programming skills.\n"
   ]
  },
  {
   "cell_type": "code",
   "execution_count": null,
   "id": "6d5cef0d",
   "metadata": {},
   "outputs": [],
   "source": []
  }
 ],
 "metadata": {
  "kernelspec": {
   "display_name": "Python 3 (ipykernel)",
   "language": "python",
   "name": "python3"
  },
  "language_info": {
   "codemirror_mode": {
    "name": "ipython",
    "version": 3
   },
   "file_extension": ".py",
   "mimetype": "text/x-python",
   "name": "python",
   "nbconvert_exporter": "python",
   "pygments_lexer": "ipython3",
   "version": "3.11.5"
  }
 },
 "nbformat": 4,
 "nbformat_minor": 5
}
